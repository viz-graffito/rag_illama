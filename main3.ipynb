{
 "cells": [
  {
   "cell_type": "code",
   "execution_count": 1,
   "id": "26485337",
   "metadata": {},
   "outputs": [
    {
     "name": "stderr",
     "output_type": "stream",
     "text": [
      "c:\\Users\\vijit_singh\\Desktop\\Personal projects repo\\rag_app_lindex\\rag_test\\Lib\\site-packages\\tqdm\\auto.py:21: TqdmWarning: IProgress not found. Please update jupyter and ipywidgets. See https://ipywidgets.readthedocs.io/en/stable/user_install.html\n",
      "  from .autonotebook import tqdm as notebook_tqdm\n"
     ]
    }
   ],
   "source": [
    "from llama_index.embeddings.huggingface import HuggingFaceEmbedding\n",
    "from qdrant_client import models\n",
    "from qdrant_client import QdrantClient\n",
    "from tqdm.auto import tqdm\n"
   ]
  },
  {
   "cell_type": "code",
   "execution_count": 2,
   "id": "6a79fb0f",
   "metadata": {},
   "outputs": [],
   "source": [
    "from datasets import load_dataset\n",
    "\n",
    "# Step 1: Load the SQuAD dataset\n",
    "dataset = load_dataset(\"squad\")\n",
    "\n",
    "# Step 2: Extract unique contexts from the dataset\n",
    "data = [item[\"context\"] for item in dataset[\"train\"]]\n",
    "texts = list(set(data))"
   ]
  },
  {
   "cell_type": "code",
   "execution_count": 3,
   "id": "18ae967d",
   "metadata": {},
   "outputs": [],
   "source": [
    "def batch_iterate(lst, batch_size):\n",
    "    for i in range(0, len(lst), batch_size):\n",
    "        yield lst[i : i + batch_size]"
   ]
  },
  {
   "cell_type": "code",
   "execution_count": 4,
   "id": "27dd30e1",
   "metadata": {},
   "outputs": [],
   "source": [
    "class EmbedData:\n",
    "\n",
    "    def __init__(self, \n",
    "                 embed_model_name=\"nomic-ai/nomic-embed-text-v1.5\",\n",
    "                 batch_size=32):\n",
    "        \n",
    "        self.embed_model_name = embed_model_name\n",
    "        self.embed_model = self._load_embed_model()\n",
    "        self.batch_size = batch_size\n",
    "        self.embeddings = []\n",
    "\n",
    "    def _load_embed_model(self):\n",
    "        embed_model = HuggingFaceEmbedding(model_name=self.embed_model_name,\n",
    "                                           trust_remote_code=True,\n",
    "                                           cache_folder='./hf_cache')\n",
    "        return embed_model\n",
    "    \n",
    "    def generate_embedding(self, context):\n",
    "        return self.embed_model.get_text_embedding_batch(context)\n",
    "    \n",
    "    def embed(self, contexts):\n",
    "        self.contexts = contexts\n",
    "        \n",
    "        for batch_context in tqdm(batch_iterate(contexts, self.batch_size),\n",
    "                                  total=len(contexts)//self.batch_size,\n",
    "                                  desc=\"Embedding data in batches\"):\n",
    "                                  \n",
    "            batch_embeddings = self.generate_embedding(batch_context)\n",
    "            \n",
    "            self.embeddings.extend(batch_embeddings)"
   ]
  },
  {
   "cell_type": "code",
   "execution_count": null,
   "id": "63126e64",
   "metadata": {},
   "outputs": [
    {
     "name": "stderr",
     "output_type": "stream",
     "text": [
      "WARNING:transformers_modules.nomic-ai.nomic-bert-2048.e5042dce39060cc34bc223455f25cf1d26db4655.modeling_hf_nomic_bert:<All keys matched successfully>\n",
      "Embedding data in batches:  35%|███▍      | 205/590 [50:37<1:51:51, 17.43s/it]"
     ]
    }
   ],
   "source": [
    "batch_size = 32\n",
    "\n",
    "embeddata = EmbedData(batch_size=batch_size)\n",
    "\n",
    "embeddata.embed(texts)"
   ]
  },
  {
   "cell_type": "code",
   "execution_count": 5,
   "id": "8005cd88",
   "metadata": {},
   "outputs": [
    {
     "name": "stderr",
     "output_type": "stream",
     "text": [
      "!!!!!!!!!!!!megablocks not available, using torch.matmul instead\n",
      "<All keys matched successfully>\n"
     ]
    }
   ],
   "source": [
    "import pickle\n",
    "batch_size = 32\n",
    "\n",
    "embeddata = EmbedData(batch_size=batch_size)\n",
    "\n",
    "with open('embeddings_and_contexts.pkl', 'rb') as f:\n",
    "    a, b = pickle.load(f)\n",
    "\n",
    "embeddata.embeddings = a[:]\n",
    "embeddata.contexts = b[:]"
   ]
  },
  {
   "cell_type": "code",
   "execution_count": 6,
   "id": "9b02c90c",
   "metadata": {},
   "outputs": [],
   "source": [
    "# embeddata.contexts[0], embeddata.embeddings[0]"
   ]
  },
  {
   "cell_type": "code",
   "execution_count": 7,
   "id": "ab07a005",
   "metadata": {},
   "outputs": [],
   "source": [
    "class QdrantVDB:\n",
    "\n",
    "    def __init__(self, collection_name, vector_dim=768, batch_size=512):\n",
    "        self.collection_name = collection_name\n",
    "        self.batch_size = batch_size\n",
    "        self.vector_dim = vector_dim\n",
    "\n",
    "    def define_client(self):\n",
    "        self.client = QdrantClient(url=\"http://localhost:6333\",\n",
    "                                   prefer_grpc=True)\n",
    "        \n",
    "    def create_collection(self):\n",
    "        \n",
    "        if not self.client.collection_exists(collection_name=self.collection_name):\n",
    "\n",
    "            self.client.create_collection(collection_name=self.collection_name,\n",
    "                                          \n",
    "                                          vectors_config=models.VectorParams(\n",
    "                                                              size=self.vector_dim,\n",
    "                                                              distance=models.Distance.DOT,\n",
    "                                                              on_disk=True),\n",
    "                                          \n",
    "                                          optimizers_config=models.OptimizersConfigDiff(\n",
    "                                                                            default_segment_number=5,\n",
    "                                                                            indexing_threshold=0)\n",
    "                                         )\n",
    "    \n",
    "    def ingest_data(self, embeddata):\n",
    "    \n",
    "        for batch_context, batch_embeddings in tqdm(zip(batch_iterate(embeddata.contexts, self.batch_size), \n",
    "                                                        batch_iterate(embeddata.embeddings, self.batch_size)), \n",
    "                                                    total=len(embeddata.contexts)//self.batch_size, \n",
    "                                                    desc=\"Ingesting in batches\"):\n",
    "        \n",
    "            self.client.upload_collection(collection_name=self.collection_name,\n",
    "                                        vectors=batch_embeddings,\n",
    "                                        payload=[{\"context\": context} for context in batch_context])\n",
    "\n",
    "        self.client.update_collection(collection_name=self.collection_name,\n",
    "                                    optimizer_config=models.OptimizersConfigDiff(indexing_threshold=20000))\n",
    "        "
   ]
  },
  {
   "cell_type": "code",
   "execution_count": 8,
   "id": "4c6d9797",
   "metadata": {},
   "outputs": [
    {
     "name": "stderr",
     "output_type": "stream",
     "text": [
      "Ingesting in batches: 37it [00:07,  5.03it/s]                        \n"
     ]
    }
   ],
   "source": [
    "database = QdrantVDB(\"squad_collection\")\n",
    "database.define_client()\n",
    "database.create_collection()\n",
    "database.ingest_data(embeddata)"
   ]
  },
  {
   "cell_type": "code",
   "execution_count": 9,
   "id": "f1f0d7a3",
   "metadata": {},
   "outputs": [],
   "source": [
    "import time\n",
    "\n",
    "class Retriever:\n",
    "\n",
    "    def __init__(self, vector_db, embeddata):\n",
    "        \n",
    "        self.vector_db = vector_db\n",
    "        self.embeddata = embeddata\n",
    "    \n",
    "    def search(self, query):\n",
    "        query_embedding = self.embeddata.embed_model.get_query_embedding(query)\n",
    "        \n",
    "        # Start the timer\n",
    "        start_time = time.time()\n",
    "        \n",
    "        result = self.vector_db.client.search(\n",
    "            collection_name=self.vector_db.collection_name,\n",
    "            \n",
    "            query_vector=query_embedding,\n",
    "            \n",
    "            search_params=models.SearchParams(\n",
    "                quantization=models.QuantizationSearchParams(\n",
    "                    ignore=True,\n",
    "                    rescore=True,\n",
    "                    oversampling=2.0,\n",
    "                )\n",
    "            ),\n",
    "            \n",
    "            timeout=1000,\n",
    "        )\n",
    "        \n",
    "        # End the timer\n",
    "        end_time = time.time()\n",
    "        elapsed_time = end_time - start_time\n",
    "\n",
    "        print(f\"Execution time for the search: {elapsed_time:.4f} seconds\")\n",
    "\n",
    "        return result"
   ]
  },
  {
   "cell_type": "code",
   "execution_count": 10,
   "id": "de2c21f4",
   "metadata": {},
   "outputs": [],
   "source": [
    "from llama_index.llms.ollama import Ollama\n",
    "\n",
    "class RAG:\n",
    "\n",
    "    def __init__(self,\n",
    "                 retriever,\n",
    "                 llm_name=\"llama3.2:1b\"):\n",
    "        \n",
    "        self.llm_name = llm_name\n",
    "        self.llm = self._setup_llm()\n",
    "        self.retriever = retriever\n",
    "        self.qa_prompt_tmpl_str = \"\"\"Context information is below.\n",
    "                                     ---------------------\n",
    "                                     {context}\n",
    "                                     ---------------------\n",
    "                                     \n",
    "                                     Given the context information above I want you\n",
    "                                     to think step by step to answer the query in a\n",
    "                                     crisp manner, incase case you don't know the\n",
    "                                     answer say 'I don't know!'\n",
    "                                     \n",
    "                                     ---------------------\n",
    "                                     Query: {query}\n",
    "                                     ---------------------\n",
    "                                     Answer: \"\"\"\n",
    "    \n",
    "    def _setup_llm(self):\n",
    "        return Ollama(model=self.llm_name)\n",
    "    \n",
    "    def generate_context(self, query):\n",
    "    \n",
    "        result = self.retriever.search(query)\n",
    "        context = [dict(data) for data in result]\n",
    "        combined_prompt = []\n",
    "\n",
    "        for entry in context:\n",
    "            context = entry[\"payload\"][\"context\"]\n",
    "\n",
    "            combined_prompt.append(context)\n",
    "\n",
    "        return \"\\n\\n---\\n\\n\".join(combined_prompt)\n",
    "    \n",
    "    def query(self, query):\n",
    "        context = self.generate_context(query=query)\n",
    "        \n",
    "        prompt = self.qa_prompt_tmpl_str.format(context=context,\n",
    "                                                query=query)\n",
    "        \n",
    "        response = self.llm.complete(prompt)\n",
    "        \n",
    "        return dict(response)['text']"
   ]
  },
  {
   "cell_type": "code",
   "execution_count": 11,
   "id": "b55458d0",
   "metadata": {},
   "outputs": [],
   "source": [
    "retriever = Retriever(database, embeddata)\n",
    "\n",
    "rag = RAG(retriever)"
   ]
  },
  {
   "cell_type": "code",
   "execution_count": 13,
   "id": "b94a74ff",
   "metadata": {},
   "outputs": [
    {
     "name": "stderr",
     "output_type": "stream",
     "text": [
      "C:\\Users\\vijit_singh\\AppData\\Local\\Temp\\ipykernel_17932\\1719883498.py:16: DeprecationWarning: `search` method is deprecated and will be removed in the future. Use `query_points` instead.\n",
      "  result = self.vector_db.client.search(\n"
     ]
    },
    {
     "name": "stdout",
     "output_type": "stream",
     "text": [
      "Execution time for the search: 0.3175 seconds\n"
     ]
    }
   ],
   "source": [
    "query = \"\"\"The premium and VIP services in Airports\n",
    "           are reserved for which type of passengers?\"\"\"\n",
    "\n",
    "answer = rag.query(query)"
   ]
  },
  {
   "cell_type": "code",
   "execution_count": 14,
   "id": "41e54001",
   "metadata": {},
   "outputs": [
    {
     "data": {
      "text/markdown": [
       "I don't know!"
      ],
      "text/plain": [
       "<IPython.core.display.Markdown object>"
      ]
     },
     "metadata": {},
     "output_type": "display_data"
    }
   ],
   "source": [
    "from IPython.display import Markdown, display\n",
    "\n",
    "display(Markdown(str(answer)))"
   ]
  },
  {
   "cell_type": "code",
   "execution_count": null,
   "id": "8dcc8569",
   "metadata": {},
   "outputs": [],
   "source": []
  }
 ],
 "metadata": {
  "kernelspec": {
   "display_name": "rag_test",
   "language": "python",
   "name": "python3"
  },
  "language_info": {
   "codemirror_mode": {
    "name": "ipython",
    "version": 3
   },
   "file_extension": ".py",
   "mimetype": "text/x-python",
   "name": "python",
   "nbconvert_exporter": "python",
   "pygments_lexer": "ipython3",
   "version": "3.11.0"
  }
 },
 "nbformat": 4,
 "nbformat_minor": 5
}
